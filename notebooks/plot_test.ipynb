{
 "cells": [
  {
   "cell_type": "code",
   "execution_count": null,
   "id": "8923bd15",
   "metadata": {},
   "outputs": [],
   "source": [
    "import logging\n",
    "import sys\n",
    "import nest_asyncio\n",
    "from bokeh.io import output_notebook\n",
    "from lsst.ts.bokeh.apps.torques.torques_layout import TorquesLayout\n",
    "from lsst.ts.library.utils.logger import initialize_file_logger, set_log_level"
   ]
  },
  {
   "cell_type": "code",
   "execution_count": null,
   "id": "d2480d48",
   "metadata": {},
   "outputs": [],
   "source": [
    "import nest_asyncio\n",
    "nest_asyncio.apply()\n",
    "output_notebook()\n",
    "initialize_file_logger('./deploy.log')\n",
    "set_log_level(logging.DEBUG)\n",
    "layout = TorquesLayout()\n",
    "layout.show_notebook()"
   ]
  }
 ],
 "metadata": {
  "kernelspec": {
   "display_name": "Python 3 (ipykernel)",
   "language": "python",
   "name": "python3"
  },
  "language_info": {
   "codemirror_mode": {
    "name": "ipython",
    "version": 3
   },
   "file_extension": ".py",
   "mimetype": "text/x-python",
   "name": "python",
   "nbconvert_exporter": "python",
   "pygments_lexer": "ipython3",
   "version": "3.10.11"
  }
 },
 "nbformat": 4,
 "nbformat_minor": 5
}
